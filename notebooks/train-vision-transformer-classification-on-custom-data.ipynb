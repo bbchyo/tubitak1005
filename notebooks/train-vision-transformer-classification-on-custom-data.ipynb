{
  "nbformat": 4,
  "nbformat_minor": 0,
  "metadata": {
    "colab": {
      "provenance": [],
      "gpuType": "T4",
      "include_colab_link": true
    },
    "kernelspec": {
      "name": "python3",
      "display_name": "Python 3"
    },
    "language_info": {
      "name": "python"
    },
    "accelerator": "GPU",
    "widgets": {
      "application/vnd.jupyter.widget-state+json": {
        "f14eb4a13fc14d10b72ab62f7aa1ed60": {
          "model_module": "@jupyter-widgets/controls",
          "model_name": "HBoxModel",
          "model_module_version": "1.5.0",
          "state": {
            "_dom_classes": [],
            "_model_module": "@jupyter-widgets/controls",
            "_model_module_version": "1.5.0",
            "_model_name": "HBoxModel",
            "_view_count": null,
            "_view_module": "@jupyter-widgets/controls",
            "_view_module_version": "1.5.0",
            "_view_name": "HBoxView",
            "box_style": "",
            "children": [
              "IPY_MODEL_102a3f7efab24b76afc827cbd4120cbb",
              "IPY_MODEL_9b03ad932e6b4a7ab12b5b7324d91ff7",
              "IPY_MODEL_edecc7c1b108417192b00f92ba792a6b"
            ],
            "layout": "IPY_MODEL_b2438f44ec9a46f7b6cc3064537c0694"
          }
        },
        "102a3f7efab24b76afc827cbd4120cbb": {
          "model_module": "@jupyter-widgets/controls",
          "model_name": "HTMLModel",
          "model_module_version": "1.5.0",
          "state": {
            "_dom_classes": [],
            "_model_module": "@jupyter-widgets/controls",
            "_model_module_version": "1.5.0",
            "_model_name": "HTMLModel",
            "_view_count": null,
            "_view_module": "@jupyter-widgets/controls",
            "_view_module_version": "1.5.0",
            "_view_name": "HTMLView",
            "description": "",
            "description_tooltip": null,
            "layout": "IPY_MODEL_c3fcc015ff81469b83f8987c390deeca",
            "placeholder": "​",
            "style": "IPY_MODEL_832d3e31c75648b3b49d410db2cd3ce6",
            "value": "config.json: 100%"
          }
        },
        "9b03ad932e6b4a7ab12b5b7324d91ff7": {
          "model_module": "@jupyter-widgets/controls",
          "model_name": "FloatProgressModel",
          "model_module_version": "1.5.0",
          "state": {
            "_dom_classes": [],
            "_model_module": "@jupyter-widgets/controls",
            "_model_module_version": "1.5.0",
            "_model_name": "FloatProgressModel",
            "_view_count": null,
            "_view_module": "@jupyter-widgets/controls",
            "_view_module_version": "1.5.0",
            "_view_name": "ProgressView",
            "bar_style": "success",
            "description": "",
            "description_tooltip": null,
            "layout": "IPY_MODEL_7aa3e9156bce43c7b0dfeef292a0400b",
            "max": 502,
            "min": 0,
            "orientation": "horizontal",
            "style": "IPY_MODEL_d1c3c6e1426840f7b77448cf49324106",
            "value": 502
          }
        },
        "edecc7c1b108417192b00f92ba792a6b": {
          "model_module": "@jupyter-widgets/controls",
          "model_name": "HTMLModel",
          "model_module_version": "1.5.0",
          "state": {
            "_dom_classes": [],
            "_model_module": "@jupyter-widgets/controls",
            "_model_module_version": "1.5.0",
            "_model_name": "HTMLModel",
            "_view_count": null,
            "_view_module": "@jupyter-widgets/controls",
            "_view_module_version": "1.5.0",
            "_view_name": "HTMLView",
            "description": "",
            "description_tooltip": null,
            "layout": "IPY_MODEL_7bf38bcf80ea42faadb76d577e73a154",
            "placeholder": "​",
            "style": "IPY_MODEL_ca8afe3cddfc4315aacd00c01596d626",
            "value": " 502/502 [00:00&lt;00:00, 10.8kB/s]"
          }
        },
        "b2438f44ec9a46f7b6cc3064537c0694": {
          "model_module": "@jupyter-widgets/base",
          "model_name": "LayoutModel",
          "model_module_version": "1.2.0",
          "state": {
            "_model_module": "@jupyter-widgets/base",
            "_model_module_version": "1.2.0",
            "_model_name": "LayoutModel",
            "_view_count": null,
            "_view_module": "@jupyter-widgets/base",
            "_view_module_version": "1.2.0",
            "_view_name": "LayoutView",
            "align_content": null,
            "align_items": null,
            "align_self": null,
            "border": null,
            "bottom": null,
            "display": null,
            "flex": null,
            "flex_flow": null,
            "grid_area": null,
            "grid_auto_columns": null,
            "grid_auto_flow": null,
            "grid_auto_rows": null,
            "grid_column": null,
            "grid_gap": null,
            "grid_row": null,
            "grid_template_areas": null,
            "grid_template_columns": null,
            "grid_template_rows": null,
            "height": null,
            "justify_content": null,
            "justify_items": null,
            "left": null,
            "margin": null,
            "max_height": null,
            "max_width": null,
            "min_height": null,
            "min_width": null,
            "object_fit": null,
            "object_position": null,
            "order": null,
            "overflow": null,
            "overflow_x": null,
            "overflow_y": null,
            "padding": null,
            "right": null,
            "top": null,
            "visibility": null,
            "width": null
          }
        },
        "c3fcc015ff81469b83f8987c390deeca": {
          "model_module": "@jupyter-widgets/base",
          "model_name": "LayoutModel",
          "model_module_version": "1.2.0",
          "state": {
            "_model_module": "@jupyter-widgets/base",
            "_model_module_version": "1.2.0",
            "_model_name": "LayoutModel",
            "_view_count": null,
            "_view_module": "@jupyter-widgets/base",
            "_view_module_version": "1.2.0",
            "_view_name": "LayoutView",
            "align_content": null,
            "align_items": null,
            "align_self": null,
            "border": null,
            "bottom": null,
            "display": null,
            "flex": null,
            "flex_flow": null,
            "grid_area": null,
            "grid_auto_columns": null,
            "grid_auto_flow": null,
            "grid_auto_rows": null,
            "grid_column": null,
            "grid_gap": null,
            "grid_row": null,
            "grid_template_areas": null,
            "grid_template_columns": null,
            "grid_template_rows": null,
            "height": null,
            "justify_content": null,
            "justify_items": null,
            "left": null,
            "margin": null,
            "max_height": null,
            "max_width": null,
            "min_height": null,
            "min_width": null,
            "object_fit": null,
            "object_position": null,
            "order": null,
            "overflow": null,
            "overflow_x": null,
            "overflow_y": null,
            "padding": null,
            "right": null,
            "top": null,
            "visibility": null,
            "width": null
          }
        },
        "832d3e31c75648b3b49d410db2cd3ce6": {
          "model_module": "@jupyter-widgets/controls",
          "model_name": "DescriptionStyleModel",
          "model_module_version": "1.5.0",
          "state": {
            "_model_module": "@jupyter-widgets/controls",
            "_model_module_version": "1.5.0",
            "_model_name": "DescriptionStyleModel",
            "_view_count": null,
            "_view_module": "@jupyter-widgets/base",
            "_view_module_version": "1.2.0",
            "_view_name": "StyleView",
            "description_width": ""
          }
        },
        "7aa3e9156bce43c7b0dfeef292a0400b": {
          "model_module": "@jupyter-widgets/base",
          "model_name": "LayoutModel",
          "model_module_version": "1.2.0",
          "state": {
            "_model_module": "@jupyter-widgets/base",
            "_model_module_version": "1.2.0",
            "_model_name": "LayoutModel",
            "_view_count": null,
            "_view_module": "@jupyter-widgets/base",
            "_view_module_version": "1.2.0",
            "_view_name": "LayoutView",
            "align_content": null,
            "align_items": null,
            "align_self": null,
            "border": null,
            "bottom": null,
            "display": null,
            "flex": null,
            "flex_flow": null,
            "grid_area": null,
            "grid_auto_columns": null,
            "grid_auto_flow": null,
            "grid_auto_rows": null,
            "grid_column": null,
            "grid_gap": null,
            "grid_row": null,
            "grid_template_areas": null,
            "grid_template_columns": null,
            "grid_template_rows": null,
            "height": null,
            "justify_content": null,
            "justify_items": null,
            "left": null,
            "margin": null,
            "max_height": null,
            "max_width": null,
            "min_height": null,
            "min_width": null,
            "object_fit": null,
            "object_position": null,
            "order": null,
            "overflow": null,
            "overflow_x": null,
            "overflow_y": null,
            "padding": null,
            "right": null,
            "top": null,
            "visibility": null,
            "width": null
          }
        },
        "d1c3c6e1426840f7b77448cf49324106": {
          "model_module": "@jupyter-widgets/controls",
          "model_name": "ProgressStyleModel",
          "model_module_version": "1.5.0",
          "state": {
            "_model_module": "@jupyter-widgets/controls",
            "_model_module_version": "1.5.0",
            "_model_name": "ProgressStyleModel",
            "_view_count": null,
            "_view_module": "@jupyter-widgets/base",
            "_view_module_version": "1.2.0",
            "_view_name": "StyleView",
            "bar_color": null,
            "description_width": ""
          }
        },
        "7bf38bcf80ea42faadb76d577e73a154": {
          "model_module": "@jupyter-widgets/base",
          "model_name": "LayoutModel",
          "model_module_version": "1.2.0",
          "state": {
            "_model_module": "@jupyter-widgets/base",
            "_model_module_version": "1.2.0",
            "_model_name": "LayoutModel",
            "_view_count": null,
            "_view_module": "@jupyter-widgets/base",
            "_view_module_version": "1.2.0",
            "_view_name": "LayoutView",
            "align_content": null,
            "align_items": null,
            "align_self": null,
            "border": null,
            "bottom": null,
            "display": null,
            "flex": null,
            "flex_flow": null,
            "grid_area": null,
            "grid_auto_columns": null,
            "grid_auto_flow": null,
            "grid_auto_rows": null,
            "grid_column": null,
            "grid_gap": null,
            "grid_row": null,
            "grid_template_areas": null,
            "grid_template_columns": null,
            "grid_template_rows": null,
            "height": null,
            "justify_content": null,
            "justify_items": null,
            "left": null,
            "margin": null,
            "max_height": null,
            "max_width": null,
            "min_height": null,
            "min_width": null,
            "object_fit": null,
            "object_position": null,
            "order": null,
            "overflow": null,
            "overflow_x": null,
            "overflow_y": null,
            "padding": null,
            "right": null,
            "top": null,
            "visibility": null,
            "width": null
          }
        },
        "ca8afe3cddfc4315aacd00c01596d626": {
          "model_module": "@jupyter-widgets/controls",
          "model_name": "DescriptionStyleModel",
          "model_module_version": "1.5.0",
          "state": {
            "_model_module": "@jupyter-widgets/controls",
            "_model_module_version": "1.5.0",
            "_model_name": "DescriptionStyleModel",
            "_view_count": null,
            "_view_module": "@jupyter-widgets/base",
            "_view_module_version": "1.2.0",
            "_view_name": "StyleView",
            "description_width": ""
          }
        },
        "6dfff78b3f79427da4971705f49df12e": {
          "model_module": "@jupyter-widgets/controls",
          "model_name": "HBoxModel",
          "model_module_version": "1.5.0",
          "state": {
            "_dom_classes": [],
            "_model_module": "@jupyter-widgets/controls",
            "_model_module_version": "1.5.0",
            "_model_name": "HBoxModel",
            "_view_count": null,
            "_view_module": "@jupyter-widgets/controls",
            "_view_module_version": "1.5.0",
            "_view_name": "HBoxView",
            "box_style": "",
            "children": [
              "IPY_MODEL_45a4fd1aefc743729bf50ce84e339726",
              "IPY_MODEL_8cfba133e6514688bd6b6f149a499309",
              "IPY_MODEL_09ee6c2b2848405283660eef0a145cca"
            ],
            "layout": "IPY_MODEL_7f0761140c5a46c5828e20afcf370ee3"
          }
        },
        "45a4fd1aefc743729bf50ce84e339726": {
          "model_module": "@jupyter-widgets/controls",
          "model_name": "HTMLModel",
          "model_module_version": "1.5.0",
          "state": {
            "_dom_classes": [],
            "_model_module": "@jupyter-widgets/controls",
            "_model_module_version": "1.5.0",
            "_model_name": "HTMLModel",
            "_view_count": null,
            "_view_module": "@jupyter-widgets/controls",
            "_view_module_version": "1.5.0",
            "_view_name": "HTMLView",
            "description": "",
            "description_tooltip": null,
            "layout": "IPY_MODEL_5e230ab5a8514d689bf4c68bdbb328fa",
            "placeholder": "​",
            "style": "IPY_MODEL_517704ec58bc4154abaf7cc9644151b5",
            "value": "model.safetensors: 100%"
          }
        },
        "8cfba133e6514688bd6b6f149a499309": {
          "model_module": "@jupyter-widgets/controls",
          "model_name": "FloatProgressModel",
          "model_module_version": "1.5.0",
          "state": {
            "_dom_classes": [],
            "_model_module": "@jupyter-widgets/controls",
            "_model_module_version": "1.5.0",
            "_model_name": "FloatProgressModel",
            "_view_count": null,
            "_view_module": "@jupyter-widgets/controls",
            "_view_module_version": "1.5.0",
            "_view_name": "ProgressView",
            "bar_style": "success",
            "description": "",
            "description_tooltip": null,
            "layout": "IPY_MODEL_7c3ff173a95e417abab2f8579d0ba295",
            "max": 345579424,
            "min": 0,
            "orientation": "horizontal",
            "style": "IPY_MODEL_221b8195768741db9322acffbc705ff9",
            "value": 345579424
          }
        },
        "09ee6c2b2848405283660eef0a145cca": {
          "model_module": "@jupyter-widgets/controls",
          "model_name": "HTMLModel",
          "model_module_version": "1.5.0",
          "state": {
            "_dom_classes": [],
            "_model_module": "@jupyter-widgets/controls",
            "_model_module_version": "1.5.0",
            "_model_name": "HTMLModel",
            "_view_count": null,
            "_view_module": "@jupyter-widgets/controls",
            "_view_module_version": "1.5.0",
            "_view_name": "HTMLView",
            "description": "",
            "description_tooltip": null,
            "layout": "IPY_MODEL_22159fc6e25b43088e963c0eb89d35a8",
            "placeholder": "​",
            "style": "IPY_MODEL_6a078d6b7fe84383a83fc08f76bfc855",
            "value": " 346M/346M [00:03&lt;00:00, 78.1MB/s]"
          }
        },
        "7f0761140c5a46c5828e20afcf370ee3": {
          "model_module": "@jupyter-widgets/base",
          "model_name": "LayoutModel",
          "model_module_version": "1.2.0",
          "state": {
            "_model_module": "@jupyter-widgets/base",
            "_model_module_version": "1.2.0",
            "_model_name": "LayoutModel",
            "_view_count": null,
            "_view_module": "@jupyter-widgets/base",
            "_view_module_version": "1.2.0",
            "_view_name": "LayoutView",
            "align_content": null,
            "align_items": null,
            "align_self": null,
            "border": null,
            "bottom": null,
            "display": null,
            "flex": null,
            "flex_flow": null,
            "grid_area": null,
            "grid_auto_columns": null,
            "grid_auto_flow": null,
            "grid_auto_rows": null,
            "grid_column": null,
            "grid_gap": null,
            "grid_row": null,
            "grid_template_areas": null,
            "grid_template_columns": null,
            "grid_template_rows": null,
            "height": null,
            "justify_content": null,
            "justify_items": null,
            "left": null,
            "margin": null,
            "max_height": null,
            "max_width": null,
            "min_height": null,
            "min_width": null,
            "object_fit": null,
            "object_position": null,
            "order": null,
            "overflow": null,
            "overflow_x": null,
            "overflow_y": null,
            "padding": null,
            "right": null,
            "top": null,
            "visibility": null,
            "width": null
          }
        },
        "5e230ab5a8514d689bf4c68bdbb328fa": {
          "model_module": "@jupyter-widgets/base",
          "model_name": "LayoutModel",
          "model_module_version": "1.2.0",
          "state": {
            "_model_module": "@jupyter-widgets/base",
            "_model_module_version": "1.2.0",
            "_model_name": "LayoutModel",
            "_view_count": null,
            "_view_module": "@jupyter-widgets/base",
            "_view_module_version": "1.2.0",
            "_view_name": "LayoutView",
            "align_content": null,
            "align_items": null,
            "align_self": null,
            "border": null,
            "bottom": null,
            "display": null,
            "flex": null,
            "flex_flow": null,
            "grid_area": null,
            "grid_auto_columns": null,
            "grid_auto_flow": null,
            "grid_auto_rows": null,
            "grid_column": null,
            "grid_gap": null,
            "grid_row": null,
            "grid_template_areas": null,
            "grid_template_columns": null,
            "grid_template_rows": null,
            "height": null,
            "justify_content": null,
            "justify_items": null,
            "left": null,
            "margin": null,
            "max_height": null,
            "max_width": null,
            "min_height": null,
            "min_width": null,
            "object_fit": null,
            "object_position": null,
            "order": null,
            "overflow": null,
            "overflow_x": null,
            "overflow_y": null,
            "padding": null,
            "right": null,
            "top": null,
            "visibility": null,
            "width": null
          }
        },
        "517704ec58bc4154abaf7cc9644151b5": {
          "model_module": "@jupyter-widgets/controls",
          "model_name": "DescriptionStyleModel",
          "model_module_version": "1.5.0",
          "state": {
            "_model_module": "@jupyter-widgets/controls",
            "_model_module_version": "1.5.0",
            "_model_name": "DescriptionStyleModel",
            "_view_count": null,
            "_view_module": "@jupyter-widgets/base",
            "_view_module_version": "1.2.0",
            "_view_name": "StyleView",
            "description_width": ""
          }
        },
        "7c3ff173a95e417abab2f8579d0ba295": {
          "model_module": "@jupyter-widgets/base",
          "model_name": "LayoutModel",
          "model_module_version": "1.2.0",
          "state": {
            "_model_module": "@jupyter-widgets/base",
            "_model_module_version": "1.2.0",
            "_model_name": "LayoutModel",
            "_view_count": null,
            "_view_module": "@jupyter-widgets/base",
            "_view_module_version": "1.2.0",
            "_view_name": "LayoutView",
            "align_content": null,
            "align_items": null,
            "align_self": null,
            "border": null,
            "bottom": null,
            "display": null,
            "flex": null,
            "flex_flow": null,
            "grid_area": null,
            "grid_auto_columns": null,
            "grid_auto_flow": null,
            "grid_auto_rows": null,
            "grid_column": null,
            "grid_gap": null,
            "grid_row": null,
            "grid_template_areas": null,
            "grid_template_columns": null,
            "grid_template_rows": null,
            "height": null,
            "justify_content": null,
            "justify_items": null,
            "left": null,
            "margin": null,
            "max_height": null,
            "max_width": null,
            "min_height": null,
            "min_width": null,
            "object_fit": null,
            "object_position": null,
            "order": null,
            "overflow": null,
            "overflow_x": null,
            "overflow_y": null,
            "padding": null,
            "right": null,
            "top": null,
            "visibility": null,
            "width": null
          }
        },
        "221b8195768741db9322acffbc705ff9": {
          "model_module": "@jupyter-widgets/controls",
          "model_name": "ProgressStyleModel",
          "model_module_version": "1.5.0",
          "state": {
            "_model_module": "@jupyter-widgets/controls",
            "_model_module_version": "1.5.0",
            "_model_name": "ProgressStyleModel",
            "_view_count": null,
            "_view_module": "@jupyter-widgets/base",
            "_view_module_version": "1.2.0",
            "_view_name": "StyleView",
            "bar_color": null,
            "description_width": ""
          }
        },
        "22159fc6e25b43088e963c0eb89d35a8": {
          "model_module": "@jupyter-widgets/base",
          "model_name": "LayoutModel",
          "model_module_version": "1.2.0",
          "state": {
            "_model_module": "@jupyter-widgets/base",
            "_model_module_version": "1.2.0",
            "_model_name": "LayoutModel",
            "_view_count": null,
            "_view_module": "@jupyter-widgets/base",
            "_view_module_version": "1.2.0",
            "_view_name": "LayoutView",
            "align_content": null,
            "align_items": null,
            "align_self": null,
            "border": null,
            "bottom": null,
            "display": null,
            "flex": null,
            "flex_flow": null,
            "grid_area": null,
            "grid_auto_columns": null,
            "grid_auto_flow": null,
            "grid_auto_rows": null,
            "grid_column": null,
            "grid_gap": null,
            "grid_row": null,
            "grid_template_areas": null,
            "grid_template_columns": null,
            "grid_template_rows": null,
            "height": null,
            "justify_content": null,
            "justify_items": null,
            "left": null,
            "margin": null,
            "max_height": null,
            "max_width": null,
            "min_height": null,
            "min_width": null,
            "object_fit": null,
            "object_position": null,
            "order": null,
            "overflow": null,
            "overflow_x": null,
            "overflow_y": null,
            "padding": null,
            "right": null,
            "top": null,
            "visibility": null,
            "width": null
          }
        },
        "6a078d6b7fe84383a83fc08f76bfc855": {
          "model_module": "@jupyter-widgets/controls",
          "model_name": "DescriptionStyleModel",
          "model_module_version": "1.5.0",
          "state": {
            "_model_module": "@jupyter-widgets/controls",
            "_model_module_version": "1.5.0",
            "_model_name": "DescriptionStyleModel",
            "_view_count": null,
            "_view_module": "@jupyter-widgets/base",
            "_view_module_version": "1.2.0",
            "_view_name": "StyleView",
            "description_width": ""
          }
        },
        "2202cc7d744d4170910974758078bb85": {
          "model_module": "@jupyter-widgets/controls",
          "model_name": "HBoxModel",
          "model_module_version": "1.5.0",
          "state": {
            "_dom_classes": [],
            "_model_module": "@jupyter-widgets/controls",
            "_model_module_version": "1.5.0",
            "_model_name": "HBoxModel",
            "_view_count": null,
            "_view_module": "@jupyter-widgets/controls",
            "_view_module_version": "1.5.0",
            "_view_name": "HBoxView",
            "box_style": "",
            "children": [
              "IPY_MODEL_0b12d6a0918b4b5da65061d7f34c20dd",
              "IPY_MODEL_433bd4d8861f465388e664183b23e312",
              "IPY_MODEL_8832cc7a569a45a180b6c169f18b01c8"
            ],
            "layout": "IPY_MODEL_3ea38aec44424a0da795eb67a1320da6"
          }
        },
        "0b12d6a0918b4b5da65061d7f34c20dd": {
          "model_module": "@jupyter-widgets/controls",
          "model_name": "HTMLModel",
          "model_module_version": "1.5.0",
          "state": {
            "_dom_classes": [],
            "_model_module": "@jupyter-widgets/controls",
            "_model_module_version": "1.5.0",
            "_model_name": "HTMLModel",
            "_view_count": null,
            "_view_module": "@jupyter-widgets/controls",
            "_view_module_version": "1.5.0",
            "_view_name": "HTMLView",
            "description": "",
            "description_tooltip": null,
            "layout": "IPY_MODEL_e1300997639d41a2b4d6577bb0160910",
            "placeholder": "​",
            "style": "IPY_MODEL_6174e67881ee436fb1125c1e359db231",
            "value": "preprocessor_config.json: 100%"
          }
        },
        "433bd4d8861f465388e664183b23e312": {
          "model_module": "@jupyter-widgets/controls",
          "model_name": "FloatProgressModel",
          "model_module_version": "1.5.0",
          "state": {
            "_dom_classes": [],
            "_model_module": "@jupyter-widgets/controls",
            "_model_module_version": "1.5.0",
            "_model_name": "FloatProgressModel",
            "_view_count": null,
            "_view_module": "@jupyter-widgets/controls",
            "_view_module_version": "1.5.0",
            "_view_name": "ProgressView",
            "bar_style": "success",
            "description": "",
            "description_tooltip": null,
            "layout": "IPY_MODEL_40886f3f852f440481064adde9f7d0a4",
            "max": 160,
            "min": 0,
            "orientation": "horizontal",
            "style": "IPY_MODEL_a1ead87dfbff47b398e0208d39a9793e",
            "value": 160
          }
        },
        "8832cc7a569a45a180b6c169f18b01c8": {
          "model_module": "@jupyter-widgets/controls",
          "model_name": "HTMLModel",
          "model_module_version": "1.5.0",
          "state": {
            "_dom_classes": [],
            "_model_module": "@jupyter-widgets/controls",
            "_model_module_version": "1.5.0",
            "_model_name": "HTMLModel",
            "_view_count": null,
            "_view_module": "@jupyter-widgets/controls",
            "_view_module_version": "1.5.0",
            "_view_name": "HTMLView",
            "description": "",
            "description_tooltip": null,
            "layout": "IPY_MODEL_78f52281a14e4589acae3a3a3e895b19",
            "placeholder": "​",
            "style": "IPY_MODEL_582c0a2499cb4c5daded7df04bb0a29e",
            "value": " 160/160 [00:00&lt;00:00, 3.42kB/s]"
          }
        },
        "3ea38aec44424a0da795eb67a1320da6": {
          "model_module": "@jupyter-widgets/base",
          "model_name": "LayoutModel",
          "model_module_version": "1.2.0",
          "state": {
            "_model_module": "@jupyter-widgets/base",
            "_model_module_version": "1.2.0",
            "_model_name": "LayoutModel",
            "_view_count": null,
            "_view_module": "@jupyter-widgets/base",
            "_view_module_version": "1.2.0",
            "_view_name": "LayoutView",
            "align_content": null,
            "align_items": null,
            "align_self": null,
            "border": null,
            "bottom": null,
            "display": null,
            "flex": null,
            "flex_flow": null,
            "grid_area": null,
            "grid_auto_columns": null,
            "grid_auto_flow": null,
            "grid_auto_rows": null,
            "grid_column": null,
            "grid_gap": null,
            "grid_row": null,
            "grid_template_areas": null,
            "grid_template_columns": null,
            "grid_template_rows": null,
            "height": null,
            "justify_content": null,
            "justify_items": null,
            "left": null,
            "margin": null,
            "max_height": null,
            "max_width": null,
            "min_height": null,
            "min_width": null,
            "object_fit": null,
            "object_position": null,
            "order": null,
            "overflow": null,
            "overflow_x": null,
            "overflow_y": null,
            "padding": null,
            "right": null,
            "top": null,
            "visibility": null,
            "width": null
          }
        },
        "e1300997639d41a2b4d6577bb0160910": {
          "model_module": "@jupyter-widgets/base",
          "model_name": "LayoutModel",
          "model_module_version": "1.2.0",
          "state": {
            "_model_module": "@jupyter-widgets/base",
            "_model_module_version": "1.2.0",
            "_model_name": "LayoutModel",
            "_view_count": null,
            "_view_module": "@jupyter-widgets/base",
            "_view_module_version": "1.2.0",
            "_view_name": "LayoutView",
            "align_content": null,
            "align_items": null,
            "align_self": null,
            "border": null,
            "bottom": null,
            "display": null,
            "flex": null,
            "flex_flow": null,
            "grid_area": null,
            "grid_auto_columns": null,
            "grid_auto_flow": null,
            "grid_auto_rows": null,
            "grid_column": null,
            "grid_gap": null,
            "grid_row": null,
            "grid_template_areas": null,
            "grid_template_columns": null,
            "grid_template_rows": null,
            "height": null,
            "justify_content": null,
            "justify_items": null,
            "left": null,
            "margin": null,
            "max_height": null,
            "max_width": null,
            "min_height": null,
            "min_width": null,
            "object_fit": null,
            "object_position": null,
            "order": null,
            "overflow": null,
            "overflow_x": null,
            "overflow_y": null,
            "padding": null,
            "right": null,
            "top": null,
            "visibility": null,
            "width": null
          }
        },
        "6174e67881ee436fb1125c1e359db231": {
          "model_module": "@jupyter-widgets/controls",
          "model_name": "DescriptionStyleModel",
          "model_module_version": "1.5.0",
          "state": {
            "_model_module": "@jupyter-widgets/controls",
            "_model_module_version": "1.5.0",
            "_model_name": "DescriptionStyleModel",
            "_view_count": null,
            "_view_module": "@jupyter-widgets/base",
            "_view_module_version": "1.2.0",
            "_view_name": "StyleView",
            "description_width": ""
          }
        },
        "40886f3f852f440481064adde9f7d0a4": {
          "model_module": "@jupyter-widgets/base",
          "model_name": "LayoutModel",
          "model_module_version": "1.2.0",
          "state": {
            "_model_module": "@jupyter-widgets/base",
            "_model_module_version": "1.2.0",
            "_model_name": "LayoutModel",
            "_view_count": null,
            "_view_module": "@jupyter-widgets/base",
            "_view_module_version": "1.2.0",
            "_view_name": "LayoutView",
            "align_content": null,
            "align_items": null,
            "align_self": null,
            "border": null,
            "bottom": null,
            "display": null,
            "flex": null,
            "flex_flow": null,
            "grid_area": null,
            "grid_auto_columns": null,
            "grid_auto_flow": null,
            "grid_auto_rows": null,
            "grid_column": null,
            "grid_gap": null,
            "grid_row": null,
            "grid_template_areas": null,
            "grid_template_columns": null,
            "grid_template_rows": null,
            "height": null,
            "justify_content": null,
            "justify_items": null,
            "left": null,
            "margin": null,
            "max_height": null,
            "max_width": null,
            "min_height": null,
            "min_width": null,
            "object_fit": null,
            "object_position": null,
            "order": null,
            "overflow": null,
            "overflow_x": null,
            "overflow_y": null,
            "padding": null,
            "right": null,
            "top": null,
            "visibility": null,
            "width": null
          }
        },
        "a1ead87dfbff47b398e0208d39a9793e": {
          "model_module": "@jupyter-widgets/controls",
          "model_name": "ProgressStyleModel",
          "model_module_version": "1.5.0",
          "state": {
            "_model_module": "@jupyter-widgets/controls",
            "_model_module_version": "1.5.0",
            "_model_name": "ProgressStyleModel",
            "_view_count": null,
            "_view_module": "@jupyter-widgets/base",
            "_view_module_version": "1.2.0",
            "_view_name": "StyleView",
            "bar_color": null,
            "description_width": ""
          }
        },
        "78f52281a14e4589acae3a3a3e895b19": {
          "model_module": "@jupyter-widgets/base",
          "model_name": "LayoutModel",
          "model_module_version": "1.2.0",
          "state": {
            "_model_module": "@jupyter-widgets/base",
            "_model_module_version": "1.2.0",
            "_model_name": "LayoutModel",
            "_view_count": null,
            "_view_module": "@jupyter-widgets/base",
            "_view_module_version": "1.2.0",
            "_view_name": "LayoutView",
            "align_content": null,
            "align_items": null,
            "align_self": null,
            "border": null,
            "bottom": null,
            "display": null,
            "flex": null,
            "flex_flow": null,
            "grid_area": null,
            "grid_auto_columns": null,
            "grid_auto_flow": null,
            "grid_auto_rows": null,
            "grid_column": null,
            "grid_gap": null,
            "grid_row": null,
            "grid_template_areas": null,
            "grid_template_columns": null,
            "grid_template_rows": null,
            "height": null,
            "justify_content": null,
            "justify_items": null,
            "left": null,
            "margin": null,
            "max_height": null,
            "max_width": null,
            "min_height": null,
            "min_width": null,
            "object_fit": null,
            "object_position": null,
            "order": null,
            "overflow": null,
            "overflow_x": null,
            "overflow_y": null,
            "padding": null,
            "right": null,
            "top": null,
            "visibility": null,
            "width": null
          }
        },
        "582c0a2499cb4c5daded7df04bb0a29e": {
          "model_module": "@jupyter-widgets/controls",
          "model_name": "DescriptionStyleModel",
          "model_module_version": "1.5.0",
          "state": {
            "_model_module": "@jupyter-widgets/controls",
            "_model_module_version": "1.5.0",
            "_model_name": "DescriptionStyleModel",
            "_view_count": null,
            "_view_module": "@jupyter-widgets/base",
            "_view_module_version": "1.2.0",
            "_view_name": "StyleView",
            "description_width": ""
          }
        }
      }
    }
  },
  "cells": [
    {
      "cell_type": "markdown",
      "metadata": {
        "id": "view-in-github",
        "colab_type": "text"
      },
      "source": [
        "<a href=\"https://colab.research.google.com/github/bbchyo/tubitak1005/blob/main/notebooks/train-vision-transformer-classification-on-custom-data.ipynb\" target=\"_parent\"><img src=\"https://colab.research.google.com/assets/colab-badge.svg\" alt=\"Open In Colab\"/></a>"
      ]
    },
    {
      "cell_type": "markdown",
      "metadata": {
        "id": "szWwJmqPHZ-r"
      },
      "source": [
        "## Training the Vision Transformer on a Custom Dataset\n",
        "\n",
        "In this notebook, we are going to fine-tune a pre-trained Vision Transformer (which can be found from [Huggingface](https://github.com/huggingface/transformers)) on a Custom Dataset. For this notebook we will be using the Rock, Paper, Scissors dataset which can be found [here](https://public.roboflow.com/classification/rock-paper-scissors/1). This dataset is a collection of 2925 images images in 3 different classes. This tutorial is based on Huggingface's [Fine tuning the Vision Transformer on CIFAR 10 notebook](https://colab.research.google.com/github/NielsRogge/Transformers-Tutorials/blob/master/VisionTransformer/Fine_tuning_the_Vision_Transformer_on_CIFAR_10_with_the_%F0%9F%A4%97_Trainer.ipynb).\n",
        "\n",
        "### Accompanying Blog Post\n",
        "\n",
        "We recommend that you follow along in this notebook while reading the blog post on [How to Train the HuggingFace Vision Transformer On a Custom Dataset](blog.roboflow.com/how-to-train-the-huggingface-vision-transformer-on-a-custom-dataset/) concurrently.\n",
        "\n",
        "\n",
        "We will prepare the data using [Roboflow's Preprocessing Tools](https://docs.roboflow.com/image-transformations/image-preprocessing), and train the model using this notebook.\n",
        "\n",
        "### Steps Covered in this Tutorial\n",
        "\n",
        "In this tutorial, we will walk through the steps required to train a Vision Transformer on your custom classification data.\n",
        "\n",
        "To train our image classifier we take the following steps:\n",
        "\n",
        "* Install Vision Transformer dependencies\n",
        "* Download custom Image Classification data using Roboflow\n",
        "* Use the Vision Transformer Feature Extractor\n",
        "* Run the Vision Transformer training procedure\n",
        "* Evaluate the Vision Transformer on a test image\n",
        "* Export the Vision Transformer model for future inference\n",
        "\n",
        "\n",
        "### **About**\n",
        "\n",
        "[Roboflow](https://roboflow.com) enables teams to deploy custom computer vision models quickly and accurately. Convert data from to annotation format, assess dataset health, preprocess, augment, and more. It's free for your first 1000 source images.\n",
        "\n",
        "**Looking for a vision model available via API without hassle? Try Roboflow Train.**\n",
        "\n",
        "![Roboflow Wordmark](https://i.imgur.com/dcLNMhV.png)\n",
        "\n"
      ]
    },
    {
      "cell_type": "markdown",
      "metadata": {
        "id": "3_7rNZfIf301"
      },
      "source": [
        "Let's start by installing the relevant libraries."
      ]
    },
    {
      "cell_type": "code",
      "metadata": {
        "colab": {
          "base_uri": "https://localhost:8080/"
        },
        "id": "6MCTZFkFw6i6",
        "outputId": "34cd5b54-6a5f-4714-9f63-7e8909b0b229"
      },
      "source": [
        "!pip install -q git+https://github.com/huggingface/transformers"
      ],
      "execution_count": 1,
      "outputs": [
        {
          "output_type": "stream",
          "name": "stdout",
          "text": [
            "  Installing build dependencies ... \u001b[?25l\u001b[?25hdone\n",
            "  Getting requirements to build wheel ... \u001b[?25l\u001b[?25hdone\n",
            "  Preparing metadata (pyproject.toml) ... \u001b[?25l\u001b[?25hdone\n",
            "  Building wheel for transformers (pyproject.toml) ... \u001b[?25l\u001b[?25hdone\n"
          ]
        }
      ]
    },
    {
      "cell_type": "markdown",
      "metadata": {
        "id": "PZMQIvJDicO9"
      },
      "source": [
        "# Download the Data\n",
        "\n",
        "We'll preprocess and download our dataset from Roboflow. To preprocess the images, change the size of the image to 224x224. To download the dataset, use the \"**Folder Structure**\" export format.\n",
        "\n",
        "To get your data into Roboflow, follow the [Getting Started Guide](https://blog.roboflow.ai/getting-started-with-roboflow/).\n",
        "\n",
        "Note: This data has already been preprocessed through Roboflow; we HIGHLY reccommend you follow the [accompanying blog](blog.roboflow.com/how-to-train-the-huggingface-vision-transformer-on-a-custom-dataset/) as you go through this notebook.\n",
        "\n",
        "![folder.PNG](data:image/png;base64,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)"
      ]
    },
    {
      "cell_type": "code",
      "metadata": {
        "colab": {
          "base_uri": "https://localhost:8080/"
        },
        "id": "XC9HqG5u750_",
        "outputId": "58637d27-e65d-4fc8-b782-06ae717b4a9a"
      },
      "source": [
        "!pip install roboflow\n",
        "\n",
        "from roboflow import Roboflow\n",
        "rf = Roboflow(api_key=\"eQvtOv0H2Ha3Szbf7eNC\")\n",
        "project = rf.workspace(\"cbt\").project(\"ikilisiniflandirma\")\n",
        "version = project.version(1)\n",
        "dataset = version.download(\"folder\")\n",
        ""
      ],
      "execution_count": 4,
      "outputs": [
        {
          "output_type": "stream",
          "name": "stdout",
          "text": [
            "Collecting roboflow\n",
            "  Downloading roboflow-1.1.63-py3-none-any.whl.metadata (9.7 kB)\n",
            "Requirement already satisfied: certifi in /usr/local/lib/python3.11/dist-packages (from roboflow) (2025.4.26)\n",
            "Collecting idna==3.7 (from roboflow)\n",
            "  Downloading idna-3.7-py3-none-any.whl.metadata (9.9 kB)\n",
            "Requirement already satisfied: cycler in /usr/local/lib/python3.11/dist-packages (from roboflow) (0.12.1)\n",
            "Requirement already satisfied: kiwisolver>=1.3.1 in /usr/local/lib/python3.11/dist-packages (from roboflow) (1.4.8)\n",
            "Requirement already satisfied: matplotlib in /usr/local/lib/python3.11/dist-packages (from roboflow) (3.10.0)\n",
            "Requirement already satisfied: numpy>=1.18.5 in /usr/local/lib/python3.11/dist-packages (from roboflow) (2.0.2)\n",
            "Collecting opencv-python-headless==4.10.0.84 (from roboflow)\n",
            "  Downloading opencv_python_headless-4.10.0.84-cp37-abi3-manylinux_2_17_x86_64.manylinux2014_x86_64.whl.metadata (20 kB)\n",
            "Requirement already satisfied: Pillow>=7.1.2 in /usr/local/lib/python3.11/dist-packages (from roboflow) (11.2.1)\n",
            "Collecting pillow-heif>=0.18.0 (from roboflow)\n",
            "  Downloading pillow_heif-0.22.0-cp311-cp311-manylinux_2_17_x86_64.manylinux2014_x86_64.whl.metadata (9.6 kB)\n",
            "Requirement already satisfied: python-dateutil in /usr/local/lib/python3.11/dist-packages (from roboflow) (2.9.0.post0)\n",
            "Collecting python-dotenv (from roboflow)\n",
            "  Downloading python_dotenv-1.1.0-py3-none-any.whl.metadata (24 kB)\n",
            "Requirement already satisfied: requests in /usr/local/lib/python3.11/dist-packages (from roboflow) (2.32.3)\n",
            "Requirement already satisfied: six in /usr/local/lib/python3.11/dist-packages (from roboflow) (1.17.0)\n",
            "Requirement already satisfied: urllib3>=1.26.6 in /usr/local/lib/python3.11/dist-packages (from roboflow) (2.4.0)\n",
            "Requirement already satisfied: tqdm>=4.41.0 in /usr/local/lib/python3.11/dist-packages (from roboflow) (4.67.1)\n",
            "Requirement already satisfied: PyYAML>=5.3.1 in /usr/local/lib/python3.11/dist-packages (from roboflow) (6.0.2)\n",
            "Requirement already satisfied: requests-toolbelt in /usr/local/lib/python3.11/dist-packages (from roboflow) (1.0.0)\n",
            "Collecting filetype (from roboflow)\n",
            "  Downloading filetype-1.2.0-py2.py3-none-any.whl.metadata (6.5 kB)\n",
            "Requirement already satisfied: contourpy>=1.0.1 in /usr/local/lib/python3.11/dist-packages (from matplotlib->roboflow) (1.3.2)\n",
            "Requirement already satisfied: fonttools>=4.22.0 in /usr/local/lib/python3.11/dist-packages (from matplotlib->roboflow) (4.57.0)\n",
            "Requirement already satisfied: packaging>=20.0 in /usr/local/lib/python3.11/dist-packages (from matplotlib->roboflow) (24.2)\n",
            "Requirement already satisfied: pyparsing>=2.3.1 in /usr/local/lib/python3.11/dist-packages (from matplotlib->roboflow) (3.2.3)\n",
            "Requirement already satisfied: charset-normalizer<4,>=2 in /usr/local/lib/python3.11/dist-packages (from requests->roboflow) (3.4.1)\n",
            "Downloading roboflow-1.1.63-py3-none-any.whl (85 kB)\n",
            "\u001b[2K   \u001b[90m━━━━━━━━━━━━━━━━━━━━━━━━━━━━━━━━━━━━━━━━\u001b[0m \u001b[32m85.3/85.3 kB\u001b[0m \u001b[31m4.6 MB/s\u001b[0m eta \u001b[36m0:00:00\u001b[0m\n",
            "\u001b[?25hDownloading idna-3.7-py3-none-any.whl (66 kB)\n",
            "\u001b[2K   \u001b[90m━━━━━━━━━━━━━━━━━━━━━━━━━━━━━━━━━━━━━━━━\u001b[0m \u001b[32m66.8/66.8 kB\u001b[0m \u001b[31m6.5 MB/s\u001b[0m eta \u001b[36m0:00:00\u001b[0m\n",
            "\u001b[?25hDownloading opencv_python_headless-4.10.0.84-cp37-abi3-manylinux_2_17_x86_64.manylinux2014_x86_64.whl (49.9 MB)\n",
            "\u001b[2K   \u001b[90m━━━━━━━━━━━━━━━━━━━━━━━━━━━━━━━━━━━━━━━━\u001b[0m \u001b[32m49.9/49.9 MB\u001b[0m \u001b[31m19.5 MB/s\u001b[0m eta \u001b[36m0:00:00\u001b[0m\n",
            "\u001b[?25hDownloading pillow_heif-0.22.0-cp311-cp311-manylinux_2_17_x86_64.manylinux2014_x86_64.whl (7.8 MB)\n",
            "\u001b[2K   \u001b[90m━━━━━━━━━━━━━━━━━━━━━━━━━━━━━━━━━━━━━━━━\u001b[0m \u001b[32m7.8/7.8 MB\u001b[0m \u001b[31m90.9 MB/s\u001b[0m eta \u001b[36m0:00:00\u001b[0m\n",
            "\u001b[?25hDownloading filetype-1.2.0-py2.py3-none-any.whl (19 kB)\n",
            "Downloading python_dotenv-1.1.0-py3-none-any.whl (20 kB)\n",
            "Installing collected packages: filetype, python-dotenv, pillow-heif, opencv-python-headless, idna, roboflow\n",
            "  Attempting uninstall: opencv-python-headless\n",
            "    Found existing installation: opencv-python-headless 4.11.0.86\n",
            "    Uninstalling opencv-python-headless-4.11.0.86:\n",
            "      Successfully uninstalled opencv-python-headless-4.11.0.86\n",
            "  Attempting uninstall: idna\n",
            "    Found existing installation: idna 3.10\n",
            "    Uninstalling idna-3.10:\n",
            "      Successfully uninstalled idna-3.10\n",
            "Successfully installed filetype-1.2.0 idna-3.7 opencv-python-headless-4.10.0.84 pillow-heif-0.22.0 python-dotenv-1.1.0 roboflow-1.1.63\n",
            "loading Roboflow workspace...\n",
            "loading Roboflow project...\n"
          ]
        },
        {
          "output_type": "stream",
          "name": "stderr",
          "text": [
            "Downloading Dataset Version Zip in ikilisınıflandırma-1 to folder:: 100%|██████████| 340057/340057 [00:06<00:00, 55876.24it/s]"
          ]
        },
        {
          "output_type": "stream",
          "name": "stdout",
          "text": [
            "\n"
          ]
        },
        {
          "output_type": "stream",
          "name": "stderr",
          "text": [
            "\n",
            "Extracting Dataset Version Zip to ikilisınıflandırma-1 in folder:: 100%|██████████| 13363/13363 [00:04<00:00, 3305.88it/s]\n"
          ]
        }
      ]
    },
    {
      "cell_type": "markdown",
      "metadata": {
        "id": "1DSSAj4Os-Od"
      },
      "source": [
        "Next, convert the folder structure dataset into a PyTorch dataset format using PyTorch's ImageFolder dataset structure:"
      ]
    },
    {
      "cell_type": "code",
      "metadata": {
        "id": "kgn-a3NiSjqR"
      },
      "source": [
        "import torchvision\n",
        "from torchvision.transforms import ToTensor\n",
        "\n",
        "train_ds = torchvision.datasets.ImageFolder('/content/ikilisınıflandırma-1/train', transform=ToTensor())\n",
        "valid_ds = torchvision.datasets.ImageFolder('/content/ikilisınıflandırma-1/valid/', transform=ToTensor())\n",
        "test_ds = torchvision.datasets.ImageFolder('/content/ikilisınıflandırma-1/test/', transform=ToTensor())"
      ],
      "execution_count": 7,
      "outputs": []
    },
    {
      "cell_type": "markdown",
      "metadata": {
        "id": "wyHJjDYLfoFy"
      },
      "source": [
        "## Define the Model\n",
        "\n",
        "Here we define the model.\n",
        "\n",
        "The model itself uses a linear layer on top of a pre-trained `ViTModel`. We place a linear layer on top of the last hidden state of the [CLS] token, which serves as a good representation of an entire image. We also add dropout for regularization.\n",
        "\n",
        "**Note:** The Vision Transformer pretrained model can be used as a regular PyTorch layer."
      ]
    },
    {
      "cell_type": "code",
      "metadata": {
        "id": "cGDrb1Q4ToLN"
      },
      "source": [
        "from transformers import ViTModel\n",
        "from transformers.modeling_outputs import SequenceClassifierOutput\n",
        "import torch.nn as nn\n",
        "import torch.nn.functional as F\n",
        "\n",
        "class ViTForImageClassification(nn.Module):\n",
        "    def __init__(self, num_labels=3):\n",
        "        super(ViTForImageClassification, self).__init__()\n",
        "        self.vit = ViTModel.from_pretrained('google/vit-base-patch16-224-in21k')\n",
        "        self.dropout = nn.Dropout(0.1)\n",
        "        self.classifier = nn.Linear(self.vit.config.hidden_size, num_labels)\n",
        "        self.num_labels = num_labels\n",
        "\n",
        "    def forward(self, pixel_values, labels):\n",
        "        outputs = self.vit(pixel_values=pixel_values)\n",
        "        output = self.dropout(outputs.last_hidden_state[:,0])\n",
        "        logits = self.classifier(output)\n",
        "\n",
        "        loss = None\n",
        "        if labels is not None:\n",
        "          loss_fct = nn.CrossEntropyLoss()\n",
        "          loss = loss_fct(logits.view(-1, self.num_labels), labels.view(-1))\n",
        "        if loss is not None:\n",
        "          return logits, loss.item()\n",
        "        else:\n",
        "          return logits, None"
      ],
      "execution_count": 8,
      "outputs": []
    },
    {
      "cell_type": "markdown",
      "metadata": {
        "id": "BePiLK-LtXuG"
      },
      "source": [
        "## Define the Model Parameters\n",
        "\n",
        "To train this model, we will train in 3 epochs, with a batch size of 10 and a learning rate of 2e-5:"
      ]
    },
    {
      "cell_type": "code",
      "metadata": {
        "id": "ntGvS0_wUAxc"
      },
      "source": [
        "EPOCHS = 3\n",
        "BATCH_SIZE = 10\n",
        "LEARNING_RATE = 2e-5"
      ],
      "execution_count": 9,
      "outputs": []
    },
    {
      "cell_type": "markdown",
      "metadata": {
        "id": "At9H-QOStt8_"
      },
      "source": [
        "We will use the pretrained Vision Transformer feature extractor, an Adam Optimizer, and a Cross Entropy Loss function."
      ]
    },
    {
      "cell_type": "code",
      "metadata": {
        "colab": {
          "base_uri": "https://localhost:8080/",
          "height": 240,
          "referenced_widgets": [
            "f14eb4a13fc14d10b72ab62f7aa1ed60",
            "102a3f7efab24b76afc827cbd4120cbb",
            "9b03ad932e6b4a7ab12b5b7324d91ff7",
            "edecc7c1b108417192b00f92ba792a6b",
            "b2438f44ec9a46f7b6cc3064537c0694",
            "c3fcc015ff81469b83f8987c390deeca",
            "832d3e31c75648b3b49d410db2cd3ce6",
            "7aa3e9156bce43c7b0dfeef292a0400b",
            "d1c3c6e1426840f7b77448cf49324106",
            "7bf38bcf80ea42faadb76d577e73a154",
            "ca8afe3cddfc4315aacd00c01596d626",
            "6dfff78b3f79427da4971705f49df12e",
            "45a4fd1aefc743729bf50ce84e339726",
            "8cfba133e6514688bd6b6f149a499309",
            "09ee6c2b2848405283660eef0a145cca",
            "7f0761140c5a46c5828e20afcf370ee3",
            "5e230ab5a8514d689bf4c68bdbb328fa",
            "517704ec58bc4154abaf7cc9644151b5",
            "7c3ff173a95e417abab2f8579d0ba295",
            "221b8195768741db9322acffbc705ff9",
            "22159fc6e25b43088e963c0eb89d35a8",
            "6a078d6b7fe84383a83fc08f76bfc855",
            "2202cc7d744d4170910974758078bb85",
            "0b12d6a0918b4b5da65061d7f34c20dd",
            "433bd4d8861f465388e664183b23e312",
            "8832cc7a569a45a180b6c169f18b01c8",
            "3ea38aec44424a0da795eb67a1320da6",
            "e1300997639d41a2b4d6577bb0160910",
            "6174e67881ee436fb1125c1e359db231",
            "40886f3f852f440481064adde9f7d0a4",
            "a1ead87dfbff47b398e0208d39a9793e",
            "78f52281a14e4589acae3a3a3e895b19",
            "582c0a2499cb4c5daded7df04bb0a29e"
          ]
        },
        "id": "RIyJr8EDtvlR",
        "outputId": "c886b0bf-9b94-4985-ab8e-d5400fd84506"
      },
      "source": [
        "from transformers import ViTFeatureExtractor\n",
        "import torch.nn as nn\n",
        "import torch\n",
        "# Define Model\n",
        "model = ViTForImageClassification(len(train_ds.classes))\n",
        "# Feature Extractor\n",
        "feature_extractor = ViTFeatureExtractor.from_pretrained('google/vit-base-patch16-224-in21k')\n",
        "# Adam Optimizer\n",
        "optimizer = torch.optim.Adam(model.parameters(), lr=LEARNING_RATE)\n",
        "# Cross Entropy Loss\n",
        "loss_func = nn.CrossEntropyLoss()\n",
        "# Use GPU if available\n",
        "device = torch.device('cuda' if torch.cuda.is_available() else 'cpu')\n",
        "if torch.cuda.is_available():\n",
        "    model.cuda()"
      ],
      "execution_count": 10,
      "outputs": [
        {
          "output_type": "stream",
          "name": "stderr",
          "text": [
            "\n",
            "The secret `HF_TOKEN` does not exist in your Colab secrets.\n",
            "To authenticate with the Hugging Face Hub, create a token in your settings tab (https://huggingface.co/settings/tokens), set it as secret in your Google Colab and restart your session.\n",
            "You will be able to reuse this secret in all of your notebooks.\n",
            "Please note that authentication is recommended but still optional to access public models or datasets.\n"
          ]
        },
        {
          "output_type": "display_data",
          "data": {
            "text/plain": [
              "config.json:   0%|          | 0.00/502 [00:00<?, ?B/s]"
            ],
            "application/vnd.jupyter.widget-view+json": {
              "version_major": 2,
              "version_minor": 0,
              "model_id": "f14eb4a13fc14d10b72ab62f7aa1ed60"
            }
          },
          "metadata": {}
        },
        {
          "output_type": "display_data",
          "data": {
            "text/plain": [
              "model.safetensors:   0%|          | 0.00/346M [00:00<?, ?B/s]"
            ],
            "application/vnd.jupyter.widget-view+json": {
              "version_major": 2,
              "version_minor": 0,
              "model_id": "6dfff78b3f79427da4971705f49df12e"
            }
          },
          "metadata": {}
        },
        {
          "output_type": "display_data",
          "data": {
            "text/plain": [
              "preprocessor_config.json:   0%|          | 0.00/160 [00:00<?, ?B/s]"
            ],
            "application/vnd.jupyter.widget-view+json": {
              "version_major": 2,
              "version_minor": 0,
              "model_id": "2202cc7d744d4170910974758078bb85"
            }
          },
          "metadata": {}
        },
        {
          "output_type": "stream",
          "name": "stderr",
          "text": [
            "The class ViTFeatureExtractor is deprecated and will be removed in version 5 of Transformers. Please use ViTImageProcessor instead.\n"
          ]
        }
      ]
    },
    {
      "cell_type": "markdown",
      "metadata": {
        "id": "XTZ-BP1yu1Us"
      },
      "source": [
        "## Train the Model"
      ]
    },
    {
      "cell_type": "code",
      "metadata": {
        "colab": {
          "base_uri": "https://localhost:8080/"
        },
        "id": "5ql2T5PDUI1D",
        "outputId": "a3afbbe8-0fc9-474d-a2fa-088ece9de38c"
      },
      "source": [
        "import torch.utils.data as data\n",
        "from torch.autograd import Variable\n",
        "import numpy as np\n",
        "\n",
        "print(\"Number of train samples: \", len(train_ds))\n",
        "print(\"Number of test samples: \", len(test_ds))\n",
        "print(\"Detected Classes are: \", train_ds.class_to_idx)\n",
        "\n",
        "train_loader = data.DataLoader(train_ds, batch_size=BATCH_SIZE, shuffle=True,  num_workers=4)\n",
        "test_loader  = data.DataLoader(test_ds, batch_size=BATCH_SIZE, shuffle=True, num_workers=4)\n",
        "\n",
        "# Train the model\n",
        "for epoch in range(EPOCHS):\n",
        "  for step, (x, y) in enumerate(train_loader):\n",
        "    # Change input array into list with each batch being one element\n",
        "    x = np.split(np.squeeze(np.array(x)), BATCH_SIZE)\n",
        "    # Remove unecessary dimension\n",
        "    for index, array in enumerate(x):\n",
        "      x[index] = np.squeeze(array)\n",
        "    # Apply feature extractor, stack back into 1 tensor and then convert to tensor\n",
        "    x = torch.tensor(np.stack(feature_extractor(x)['pixel_values'], axis=0))\n",
        "    # Send to GPU if available\n",
        "    x, y  = x.to(device), y.to(device)\n",
        "    b_x = Variable(x)   # batch x (image)\n",
        "    b_y = Variable(y)   # batch y (target)\n",
        "    # Feed through model\n",
        "    output, loss = model(b_x, None)\n",
        "    # Calculate loss\n",
        "    if loss is None:\n",
        "      loss = loss_func(output, b_y)\n",
        "      optimizer.zero_grad()\n",
        "      loss.backward()\n",
        "      optimizer.step()\n",
        "\n",
        "    if step % 50 == 0:\n",
        "      # Get the next batch for testing purposes\n",
        "      test = next(iter(test_loader))\n",
        "      test_x = test[0]\n",
        "      # Reshape and get feature matrices as needed\n",
        "      test_x = np.split(np.squeeze(np.array(test_x)), BATCH_SIZE)\n",
        "      for index, array in enumerate(test_x):\n",
        "        test_x[index] = np.squeeze(array)\n",
        "      test_x = torch.tensor(np.stack(feature_extractor(test_x)['pixel_values'], axis=0))\n",
        "      # Send to appropirate computing device\n",
        "      test_x = test_x.to(device)\n",
        "      test_y = test[1].to(device)\n",
        "      # Get output (+ respective class) and compare to target\n",
        "      test_output, loss = model(test_x, test_y)\n",
        "      test_output = test_output.argmax(1)\n",
        "      # Calculate Accuracy\n",
        "      accuracy = (test_output == test_y).sum().item() / BATCH_SIZE\n",
        "      print('Epoch: ', epoch, '| train loss: %.4f' % loss, '| test accuracy: %.2f' % accuracy)"
      ],
      "execution_count": null,
      "outputs": [
        {
          "output_type": "stream",
          "name": "stdout",
          "text": [
            "Number of train samples:  11682\n",
            "Number of test samples:  555\n",
            "Detected Classes are:  {'Unlabeled': 0, 'taban': 1, 'yan': 2}\n"
          ]
        },
        {
          "output_type": "stream",
          "name": "stderr",
          "text": [
            "This DataLoader will create 4 worker processes in total. Our suggested max number of worker in current system is 2, which is smaller than what this DataLoader is going to create. Please be aware that excessive worker creation might get DataLoader running slow or even freeze, lower the worker number to avoid potential slowness/freeze if necessary.\n",
            "It looks like you are trying to rescale already rescaled images. If the input images have pixel values between 0 and 1, set `do_rescale=False` to avoid rescaling them again.\n"
          ]
        },
        {
          "output_type": "stream",
          "name": "stdout",
          "text": [
            "Epoch:  0 | train loss: 1.1482 | test accuracy: 0.00\n",
            "Epoch:  0 | train loss: 1.5557 | test accuracy: 0.60\n",
            "Epoch:  0 | train loss: 2.7710 | test accuracy: 0.30\n",
            "Epoch:  0 | train loss: 2.2796 | test accuracy: 0.50\n",
            "Epoch:  0 | train loss: 2.6720 | test accuracy: 0.40\n",
            "Epoch:  0 | train loss: 2.8367 | test accuracy: 0.40\n"
          ]
        }
      ]
    },
    {
      "cell_type": "markdown",
      "metadata": {
        "id": "LWXvWiB-srBC"
      },
      "source": [
        "## Evaluate on a Test Image\n",
        "\n",
        "Finally, let's evaluate the model on a test image:"
      ]
    },
    {
      "cell_type": "code",
      "metadata": {
        "id": "ZLv_xdYssuGO"
      },
      "source": [
        "import matplotlib.pyplot as plt\n",
        "import numpy as np\n",
        "\n",
        "EVAL_BATCH = 1\n",
        "eval_loader  = data.DataLoader(valid_ds, batch_size=EVAL_BATCH, shuffle=True, num_workers=4)\n",
        "# Disable grad\n",
        "with torch.no_grad():\n",
        "\n",
        "  inputs, target = next(iter(eval_loader))\n",
        "  # Reshape and get feature matrices as needed\n",
        "  print(inputs.shape)\n",
        "  inputs = inputs[0].permute(1, 2, 0)\n",
        "  # Save original Input\n",
        "  originalInput = inputs\n",
        "  for index, array in enumerate(inputs):\n",
        "    inputs[index] = np.squeeze(array)\n",
        "  inputs = torch.tensor(np.stack(feature_extractor(inputs)['pixel_values'], axis=0))\n",
        "\n",
        "  # Send to appropriate computing device\n",
        "  inputs = inputs.to(device)\n",
        "  target = target.to(device)\n",
        "\n",
        "  # Generate prediction\n",
        "  prediction, loss = model(inputs, target)\n",
        "\n",
        "  # Predicted class value using argmax\n",
        "  predicted_class = np.argmax(prediction.cpu())\n",
        "  value_predicted = list(valid_ds.class_to_idx.keys())[list(valid_ds.class_to_idx.values()).index(predicted_class)]\n",
        "  value_target = list(valid_ds.class_to_idx.keys())[list(valid_ds.class_to_idx.values()).index(target)]\n",
        "\n",
        "  # Show result\n",
        "  plt.imshow(originalInput)\n",
        "  plt.xlim(224,0)\n",
        "  plt.ylim(224,0)\n",
        "  plt.title(f'Prediction: {value_predicted} - Actual target: {value_target}')\n",
        "  plt.show()"
      ],
      "execution_count": null,
      "outputs": []
    },
    {
      "cell_type": "markdown",
      "metadata": {
        "id": "gGVIM5jX2Z5b"
      },
      "source": [
        "## Save the Entire Model\n",
        "\n",
        "We can save the entire model as follows:"
      ]
    },
    {
      "cell_type": "code",
      "metadata": {
        "id": "x4S-BcSI2v88"
      },
      "source": [
        "torch.save(model, '/content/model.pt')"
      ],
      "execution_count": null,
      "outputs": []
    },
    {
      "cell_type": "markdown",
      "metadata": {
        "id": "aeJ99BfV9QRo"
      },
      "source": [
        "## Export Trained Model\n",
        "\n",
        "Now that you have trained your custom vision transformer, you can export the trained model you have made here for inference on your device elsewhere"
      ]
    },
    {
      "cell_type": "code",
      "metadata": {
        "id": "gFmfiH0Z3QJb"
      },
      "source": [
        "from google.colab import drive\n",
        "drive.mount('/content/gdrive')\n",
        "\n",
        "%cp /content/model.pt /content/gdrive/My\\ Drive"
      ],
      "execution_count": null,
      "outputs": []
    },
    {
      "cell_type": "markdown",
      "metadata": {
        "id": "ORZKpeH1REHP"
      },
      "source": [
        "## Use your Exported Model"
      ]
    },
    {
      "cell_type": "code",
      "metadata": {
        "id": "rS706FbORDiO"
      },
      "source": [
        "MODEL_PATH = '/content/model.pt'\n",
        "model = torch.load(MODEL_PATH)\n",
        "model.eval()"
      ],
      "execution_count": null,
      "outputs": []
    }
  ]
}